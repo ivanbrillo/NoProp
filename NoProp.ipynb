{
 "cells": [
  {
   "cell_type": "markdown",
   "metadata": {
    "id": "zCu1mXACaKdx"
   },
   "source": [
    "# Import Libraries"
   ]
  },
  {
   "cell_type": "code",
   "execution_count": 1,
   "metadata": {
    "id": "ZoxseEX7_Fy1"
   },
   "outputs": [],
   "source": [
    "import torch\n",
    "import torch.nn as nn\n",
    "import torch.nn.functional as F\n",
    "import torch.optim as optim\n",
    "from torchvision import datasets, transforms\n",
    "from torch.utils.data import DataLoader\n",
    "from torchsummary import summary\n",
    "from functools import reduce\n",
    "import matplotlib.pyplot as plt\n",
    "import numpy as np\n",
    "import random"
   ]
  },
  {
   "cell_type": "markdown",
   "metadata": {
    "id": "nxES-OQfaZaF"
   },
   "source": [
    "# Hyperparameters"
   ]
  },
  {
   "cell_type": "code",
   "execution_count": 2,
   "metadata": {
    "id": "GApOWb8K_QbC"
   },
   "outputs": [],
   "source": [
    "T = 10  # Diffusion steps\n",
    "embed_dim = 10  # Label embedding dimension, since we use one-hot encoding, d = num of classes \n",
    "batch_size = 128\n",
    "lr = 0.001\n",
    "epochs = 10"
   ]
  },
  {
   "cell_type": "code",
   "execution_count": 3,
   "metadata": {
    "id": "vzSRvuN-_QUv"
   },
   "outputs": [
    {
     "name": "stdout",
     "output_type": "stream",
     "text": [
      "Alpha: tensor([0.9000, 0.8364, 0.7727, 0.7091, 0.6455, 0.5818, 0.5182, 0.4545, 0.3909,\n",
      "        0.3273, 0.2636, 0.2000])\n",
      "Alpha_bar: tensor([0.0002, 0.0003, 0.0003, 0.0004, 0.0006, 0.0009, 0.0016, 0.0031, 0.0067,\n",
      "        0.0173, 0.0527, 0.2000])\n",
      "SNR: tensor([2.4615e-04, 2.7351e-04, 3.2704e-04, 4.2327e-04, 5.9702e-04, 9.2527e-04,\n",
      "        1.5914e-03, 3.0756e-03, 6.7914e-03, 1.7559e-02, 5.5662e-02, 2.5000e-01])\n",
      "a_t: tensor([   nan, 0.0017, 0.0030, 0.0047, 0.0071, 0.0108, 0.0167, 0.0267, 0.0449,\n",
      "        0.0806, 0.1572, 0.3476])\n",
      "b_t: tensor([   nan, 0.0157, 0.0165, 0.0181, 0.0206, 0.0244, 0.0304, 0.0398, 0.0552,\n",
      "        0.0813, 0.1266, 0.1939])\n",
      "c_t: tensor([   nan, 0.1000, 0.1636, 0.2273, 0.2909, 0.3544, 0.4179, 0.4811, 0.5434,\n",
      "        0.6026, 0.6484, 0.6219])\n"
     ]
    }
   ],
   "source": [
    "# Noise schedule (linear)\n",
    "alpha = torch.linspace(0.9, 0.2, T+2)  # α_t from 0.9 → 0.2\n",
    "alpha_bar = torch.cumprod(alpha.flip(0), dim=0).flip(0)\n",
    "\n",
    "print(\"Alpha:\", alpha)\n",
    "print(\"Alpha_bar:\", alpha_bar)\n",
    "\n",
    "SNR = alpha_bar / (1 - alpha_bar)  # Signal-to-noise ratio\n",
    "\n",
    "# For computing a_t, b_t, c_t we need α_{t-1} and also the previous alpha bar \n",
    "alpha_bar_prev = torch.cat([torch.tensor([torch.nan]), alpha_bar[:-1]])\n",
    "alpha_prev = torch.cat([torch.tensor([torch.nan]), alpha[:-1]])\n",
    "\n",
    "a = torch.sqrt(alpha_bar) * (1 - alpha_prev) / (1 - alpha_bar_prev)\n",
    "b = torch.sqrt(alpha_bar_prev) * (1 - alpha_bar) / (1 - alpha_bar_prev)\n",
    "c = (1 - alpha_bar) * (1 - alpha_prev) / (1 - alpha_bar_prev)\n",
    "\n",
    "print(\"SNR:\", SNR)\n",
    "print(\"a_t:\", a)\n",
    "print(\"b_t:\", b) \n",
    "print(\"c_t:\", c)"
   ]
  },
  {
   "cell_type": "markdown",
   "metadata": {
    "id": "eeZ3MSd3adhn"
   },
   "source": [
    "# Setting Up Models"
   ]
  },
  {
   "cell_type": "code",
   "execution_count": 4,
   "metadata": {
    "id": "uJ26Tb7Z_QQR"
   },
   "outputs": [],
   "source": [
    "# MLP for denoising\n",
    "class BlockNN(nn.Module):\n",
    "    def __init__(self):\n",
    "        super().__init__()\n",
    "        self.final_dim_img = 32\n",
    "\n",
    "        self.cnn =  nn.Sequential(  # process image x\n",
    "            nn.Conv2d(1, 16, 3, 1),\n",
    "            nn.ReLU(),\n",
    "            nn.MaxPool2d(4),\n",
    "            nn.Conv2d(16, 32, 3, 1),\n",
    "            nn.ReLU(),\n",
    "            nn.MaxPool2d(2),\n",
    "            nn.Flatten(),\n",
    "            nn.Linear(128, self.final_dim_img)\n",
    "        )\n",
    "\n",
    "        self.mlp1 = nn.Sequential(  # process previous layer activation z_{t-1}\n",
    "            nn.Linear(embed_dim, 64),  \n",
    "            nn.ReLU(),\n",
    "            nn.Linear(64, embed_dim)     \n",
    "        )\n",
    "\n",
    "        self.mlp2 = nn.Sequential(  # process the concatenation of the previous two NN\n",
    "            nn.Linear(self.final_dim_img + embed_dim, 256),  # Input: image features + noisy label features\n",
    "            nn.ReLU(),\n",
    "            nn.Linear(256, embed_dim)        # Output: approximate de-noised label u^ \n",
    "        )\n",
    "\n",
    "    def forward(self, x, z_t):\n",
    "        img_features = self.cnn(x)\n",
    "        processed_activation = self.mlp1(z_t)\n",
    "\n",
    "        combined = torch.cat([img_features, processed_activation], dim=1)  # returns u^ at block t+1\n",
    "        return self.mlp2(combined) \n",
    "    \n",
    "\n",
    "# Initialize models\n",
    "blockNN = nn.ModuleList([None] + [BlockNN() for _ in range(T)] + [BlockNN()])  # Index 0 is None to match paper notation, blocks 1 to T + classification head\n",
    "optimizers = [optim.Adam(blockNN[i].parameters(), lr=lr) for i in range(1, T+2)]  # Only create optimizers for actual blocks"
   ]
  },
  {
   "cell_type": "code",
   "execution_count": 5,
   "metadata": {},
   "outputs": [
    {
     "name": "stdout",
     "output_type": "stream",
     "text": [
      "=== DenoisingMLP Structure ===\n",
      "\n",
      "CNN Component Summary:\n",
      "Input: (1, 28, 28) - MNIST grayscale image\n",
      "----------------------------------------------------------------\n",
      "        Layer (type)               Output Shape         Param #\n",
      "================================================================\n",
      "            Conv2d-1          [128, 16, 26, 26]             160\n",
      "              ReLU-2          [128, 16, 26, 26]               0\n",
      "         MaxPool2d-3            [128, 16, 6, 6]               0\n",
      "            Conv2d-4            [128, 32, 4, 4]           4,640\n",
      "              ReLU-5            [128, 32, 4, 4]               0\n",
      "         MaxPool2d-6            [128, 32, 2, 2]               0\n",
      "           Flatten-7                 [128, 128]               0\n",
      "            Linear-8                  [128, 32]           4,128\n",
      "================================================================\n",
      "Total params: 8,928\n",
      "Trainable params: 8,928\n",
      "Non-trainable params: 0\n",
      "----------------------------------------------------------------\n",
      "Input size (MB): 0.38\n",
      "Forward/backward pass size (MB): 22.97\n",
      "Params size (MB): 0.03\n",
      "Estimated Total Size (MB): 23.39\n",
      "----------------------------------------------------------------\n",
      "\n",
      "MLP Component Summary:\n",
      "Input: (138,) - CNN features + noisy label\n",
      "----------------------------------------------------------------\n",
      "        Layer (type)               Output Shape         Param #\n",
      "================================================================\n",
      "            Linear-1                 [128, 256]          11,008\n",
      "              ReLU-2                 [128, 256]               0\n",
      "            Linear-3                  [128, 10]           2,570\n",
      "================================================================\n",
      "Total params: 13,578\n",
      "Trainable params: 13,578\n",
      "Non-trainable params: 0\n",
      "----------------------------------------------------------------\n",
      "Input size (MB): 0.02\n",
      "Forward/backward pass size (MB): 0.51\n",
      "Params size (MB): 0.05\n",
      "Estimated Total Size (MB): 0.58\n",
      "----------------------------------------------------------------\n"
     ]
    }
   ],
   "source": [
    "print(\"=== DenoisingMLP Structure ===\")\n",
    "_b = blockNN[1] \n",
    "\n",
    "print(\"\\nCNN Component Summary:\")\n",
    "print(\"Input: (1, 28, 28) - MNIST grayscale image\")\n",
    "summary(_b.cnn, (1, 28, 28), batch_size=batch_size)\n",
    "\n",
    "print(f\"\\nMLP Component Summary:\")\n",
    "print(f\"Input: ({128 + embed_dim},) - CNN features + noisy label\")\n",
    "summary(_b.mlp2, (32 + embed_dim,), batch_size=batch_size)"
   ]
  },
  {
   "cell_type": "markdown",
   "metadata": {
    "id": "TY3BUc9Dah44"
   },
   "source": [
    "# Preparing Dataset"
   ]
  },
  {
   "cell_type": "code",
   "execution_count": 6,
   "metadata": {
    "colab": {
     "base_uri": "https://localhost:8080/"
    },
    "id": "zZAWOkNB_xuF",
    "outputId": "3acd5dba-09e9-40a9-cd8c-16e8a87d6ffc"
   },
   "outputs": [
    {
     "name": "stdout",
     "output_type": "stream",
     "text": [
      "Training samples: 60000\n",
      "Test samples: 10000\n"
     ]
    }
   ],
   "source": [
    "# Load MNIST with train-test split\n",
    "transform = transforms.ToTensor()\n",
    "train_data = datasets.MNIST(root='./data', train=True, download=True, transform=transform)\n",
    "test_data = datasets.MNIST(root='./data', train=False, download=True, transform=transform)\n",
    "\n",
    "train_loader = DataLoader(train_data, batch_size=batch_size, shuffle=True)\n",
    "test_loader = DataLoader(test_data, batch_size=batch_size, shuffle=False)\n",
    "\n",
    "print(f\"Training samples: {len(train_data)}\")\n",
    "print(f\"Test samples: {len(test_data)}\")"
   ]
  },
  {
   "cell_type": "markdown",
   "metadata": {
    "id": "0lgU9EC0amwQ"
   },
   "source": [
    "# Training"
   ]
  },
  {
   "cell_type": "code",
   "execution_count": 7,
   "metadata": {},
   "outputs": [],
   "source": [
    "# Accuracy calculation function\n",
    "def calculate_accuracy(data_loader, blockNN, T = T, embed_dim = embed_dim):\n",
    "    correct = 0\n",
    "    total = 0\n",
    "    \n",
    "    with torch.no_grad():\n",
    "        for x, y in data_loader:\n",
    "            current_batch_size = x.shape[0]\n",
    "            \n",
    "            # Start from pure noise t = 0\n",
    "            z_t = torch.randn(current_batch_size, embed_dim)\n",
    "            \n",
    "            # Forward pass through all blocks (and classification head)\n",
    "            for t in range(1, T+2):\n",
    "                u_hat = blockNN[t](x, z_t)\n",
    "                \n",
    "                if t <= T:\n",
    "                    z_t = a[t] * u_hat + b[t] * z_t + torch.sqrt(c[t]) * torch.randn(current_batch_size, embed_dim)\n",
    "                else:  # For final block, get predictions via classification head\n",
    "                    predictions = torch.argmax(u_hat, dim=1)\n",
    "                    correct += (predictions == y).sum().item()\n",
    "                    total += y.size(0)\n",
    "    \n",
    "    return correct / total if total > 0 else 0.0"
   ]
  },
  {
   "cell_type": "code",
   "execution_count": 8,
   "metadata": {
    "colab": {
     "base_uri": "https://localhost:8080/"
    },
    "id": "KtGT_c1H_y9r",
    "outputId": "2ae2430a-4e96-4e08-9ce6-1e7bc7b719ed"
   },
   "outputs": [
    {
     "name": "stdout",
     "output_type": "stream",
     "text": [
      "Epoch 1/10 | Avg Loss: 0.5283 | Train Acc: 0.9553 | Test Acc: 0.9585\n",
      "Epoch 2/10 | Avg Loss: 0.1224 | Train Acc: 0.9702 | Test Acc: 0.9729\n",
      "Epoch 3/10 | Avg Loss: 0.0917 | Train Acc: 0.9684 | Test Acc: 0.9693\n",
      "Epoch 4/10 | Avg Loss: 0.0788 | Train Acc: 0.9800 | Test Acc: 0.9808\n",
      "Epoch 5/10 | Avg Loss: 0.0667 | Train Acc: 0.9838 | Test Acc: 0.9833\n",
      "Epoch 6/10 | Avg Loss: 0.0607 | Train Acc: 0.9837 | Test Acc: 0.9849\n",
      "Epoch 7/10 | Avg Loss: 0.0543 | Train Acc: 0.9847 | Test Acc: 0.9842\n",
      "Epoch 8/10 | Avg Loss: 0.0476 | Train Acc: 0.9866 | Test Acc: 0.9851\n",
      "Epoch 9/10 | Avg Loss: 0.0462 | Train Acc: 0.9854 | Test Acc: 0.9828\n",
      "Epoch 10/10 | Avg Loss: 0.0414 | Train Acc: 0.9859 | Test Acc: 0.9836\n",
      "Training complete!\n",
      "Model weights saved to 'blockNN_weights.pth'\n"
     ]
    }
   ],
   "source": [
    "# Training loop\n",
    "for epoch in range(epochs):\n",
    "    epoch_loss = 0.0\n",
    "    batch_count = 0\n",
    "\n",
    "    for x, y in train_loader:\n",
    "        current_batch_size = x.shape[0]\n",
    "        u_y = torch.zeros(current_batch_size, embed_dim).scatter_(1, y.unsqueeze(1), 1) # create a one-hot encoding tensor shape = (batch_size, embed_dim)\n",
    "\n",
    "        # Forward diffusion (Adding Noise for each layer -> Variance Preserving (VP) Process)\n",
    "        z = [torch.randn_like(u_y)] # starts with pure noise (z_0)\n",
    "\n",
    "        for t in range(1, T + 1):  # for each layer t = 1, ..., T:\n",
    "            eps = torch.randn_like(u_y)\n",
    "            z_t = torch.sqrt(alpha_bar[t]) * u_y + torch.sqrt(1 - alpha_bar[t]) * eps   # z_t sampled form N(sqrt{alpha_bar[t]} u_y, (1-alpha_bar[t])*eps)  \n",
    "            z.append(z_t)\n",
    "\n",
    "\n",
    "        losses = []\n",
    "\n",
    "        # Inner Blocks 1, ..., T\n",
    "        for t in range(1, T+1):\n",
    "            u_hat_t = blockNN[t](x, z[t-1].detach())  # stops tracking operations on z[t-1] tensor for gradient calculation\n",
    "            losses.append((SNR[t] - SNR[t-1]) * torch.mean((u_hat_t - u_y) ** 2))\n",
    "\n",
    "        # Classification Head (t = T + 1)\n",
    "        u_hat_T = blockNN[T+1](x, z[T].detach())\n",
    "        losses.append(F.cross_entropy(u_hat_T, y))   # it internally compute log_softmax of u_hat_T\n",
    "\n",
    "        total_loss = sum(losses)\n",
    "        for opt in optimizers:\n",
    "            opt.zero_grad()  # clear gradients from previous iteration\n",
    "            \n",
    "        total_loss.backward()  # find the gradient across all parameters, note that parameters of a layers don't change gradient for another one\n",
    "        for opt in optimizers:\n",
    "            opt.step()  # each optimizer perform the update of its block parameters\n",
    "\n",
    "        epoch_loss += total_loss.item()\n",
    "        batch_count += 1\n",
    "\n",
    "    # Epoch summary print with accuracy\n",
    "    avg_loss = epoch_loss / batch_count\n",
    "    \n",
    "    train_acc = calculate_accuracy(train_loader, blockNN)\n",
    "    test_acc = calculate_accuracy(test_loader, blockNN)\n",
    "    print(f\"Epoch {epoch+1}/{epochs} | Avg Loss: {avg_loss:.4f} | Train Acc: {train_acc:.4f} | Test Acc: {test_acc:.4f}\")\n",
    "\n",
    "\n",
    "# Final message\n",
    "print(\"Training complete!\")\n",
    "\n",
    "# Save model weights\n",
    "torch.save(blockNN.state_dict(), 'blockNN_weights.pth')\n",
    "print(\"Model weights saved to 'blockNN_weights.pth'\")"
   ]
  },
  {
   "cell_type": "markdown",
   "metadata": {
    "id": "kGrsvukHaqGX"
   },
   "source": [
    "# Inferencing"
   ]
  },
  {
   "cell_type": "code",
   "execution_count": 9,
   "metadata": {
    "id": "LINA1yBV_0XH"
   },
   "outputs": [],
   "source": [
    "# Inference (denoising)\n",
    "def predict(x):\n",
    "    with torch.no_grad():\n",
    "        z_t = torch.randn(1, embed_dim)  # Start from pure noise z_0\n",
    "        \n",
    "        for t in range(1, T+2): \n",
    "            u_hat = blockNN[t](x.unsqueeze(0), z_t)\n",
    "            if t <= T:  # inner blocks\n",
    "                z_t = a[t] * u_hat + b[t] * z_t + torch.sqrt(c[t]) * torch.randn(1, embed_dim)\n",
    "            else:  # For final block, return prediction via classification head\n",
    "                return torch.argmax(u_hat, dim=1)"
   ]
  },
  {
   "cell_type": "code",
   "execution_count": 10,
   "metadata": {
    "colab": {
     "base_uri": "https://localhost:8080/"
    },
    "id": "Qs8kIZcb_0Tp",
    "outputId": "8823f70e-d3f6-4eb8-c2a6-bd771136c828"
   },
   "outputs": [
    {
     "name": "stdout",
     "output_type": "stream",
     "text": [
      "Predicted: tensor([1]), True: 1\n"
     ]
    }
   ],
   "source": [
    "# Test on a random example\n",
    "test_loader_shuffled = DataLoader(test_data, batch_size=batch_size, shuffle=True)\n",
    "x_test, y_test = next(iter(test_loader_shuffled))\n",
    "random_idx = random.randint(0, batch_size-1)\n",
    "pred = predict(x_test[random_idx])\n",
    "print(f\"Predicted: {pred}, True: {y_test[random_idx]}\")"
   ]
  },
  {
   "cell_type": "code",
   "execution_count": 11,
   "metadata": {
    "id": "XTHv45S5_0RO"
   },
   "outputs": [],
   "source": [
    "import matplotlib.pyplot as plt\n",
    "import numpy as np\n",
    "\n",
    "def plot_prediction(x, true_label, pred_label, class_names=None):\n",
    "    \"\"\"\n",
    "    Plot image with true and predicted labels.\n",
    "\n",
    "    Args:\n",
    "        x (torch.Tensor): Input image tensor (1, C, H, W)\n",
    "        true_label (int): Ground truth class index\n",
    "        pred_label (int): Predicted class index\n",
    "        class_names (list): Optional list of class names\n",
    "    \"\"\"\n",
    "    # Convert tensor to numpy and denormalize if needed\n",
    "    img = x.squeeze().cpu().numpy()\n",
    "    if img.min() < 0 or img.max() > 1:  # Assuming [0,1] or [-1,1] range\n",
    "        img = (img - img.min()) / (img.max() - img.min())\n",
    "\n",
    "    # Create figure\n",
    "    plt.figure(figsize=(6, 3))\n",
    "\n",
    "    # Plot image\n",
    "    plt.subplot(1, 2, 1)\n",
    "    plt.imshow(img, cmap='gray' if img.ndim == 2 else None)\n",
    "    plt.axis('off')\n",
    "    plt.title('Input Image', pad=10)\n",
    "\n",
    "    # Plot labels\n",
    "    plt.subplot(1, 2, 2)\n",
    "    plt.axis('off')\n",
    "\n",
    "    if class_names:\n",
    "        true_str = f\"True: {class_names[true_label]}\"\n",
    "        pred_str = f\"Predicted: {class_names[pred_label]}\"\n",
    "    else:\n",
    "        true_str = f\"True label: {true_label}\"\n",
    "        pred_str = f\"Predicted: {pred_label}\"\n",
    "\n",
    "    plt.text(0.1, 0.7, true_str, fontsize=12, color='green')\n",
    "    plt.text(0.1, 0.5, pred_str,\n",
    "             fontsize=12,\n",
    "             color='red' if true_label != pred_label else 'green')\n",
    "\n",
    "    # Highlight incorrect predictions\n",
    "    if true_label != pred_label:\n",
    "        plt.text(0.1, 0.3, \"INCORRECT\", fontsize=14, color='red', weight='bold')\n",
    "\n",
    "    plt.tight_layout()\n",
    "    plt.show()"
   ]
  },
  {
   "cell_type": "code",
   "execution_count": 12,
   "metadata": {
    "colab": {
     "base_uri": "https://localhost:8080/",
     "height": 316
    },
    "id": "WK1nzjCt_0O-",
    "outputId": "d3afcc0a-d137-4ad0-dec9-e1a7fe0faa07"
   },
   "outputs": [
    {
     "data": {
      "image/png": "[encoded data removed]",
      "text/plain": [
       "<Figure size 600x300 with 2 Axes>"
      ]
     },
     "metadata": {},
     "output_type": "display_data"
    }
   ],
   "source": [
    "# Example usage with MNIST\n",
    "class_names = [str(i) for i in range(10)]  # ['0', '1', ..., '9']\n",
    "test_loader_shuffled = DataLoader(test_data, batch_size=batch_size, shuffle=True)\n",
    "x_test, y_test = next(iter(test_loader_shuffled))\n",
    "random_idx = random.randint(0, batch_size-1)\n",
    "pred = predict(x_test[random_idx])\n",
    "\n",
    "plot_prediction(x_test[random_idx],\n",
    "               y_test[random_idx].item(),\n",
    "               pred.item(),\n",
    "               class_names)"
   ]
  }
 ],
 "metadata": {
  "accelerator": "GPU",
  "colab": {
   "authorship_tag": "ABX9TyOg0HFF5C/8CLWLLGaczBlp",
   "gpuType": "T4",
   "include_colab_link": true,
   "provenance": []
  },
  "kernelspec": {
   "display_name": "torch-env",
   "language": "python",
   "name": "python3"
  },
  "language_info": {
   "codemirror_mode": {
    "name": "ipython",
    "version": 3
   },
   "file_extension": ".py",
   "mimetype": "text/x-python",
   "name": "python",
   "nbconvert_exporter": "python",
   "pygments_lexer": "ipython3",
   "version": "3.12.11"
  }
 },
 "nbformat": 4,
 "nbformat_minor": 0
}
